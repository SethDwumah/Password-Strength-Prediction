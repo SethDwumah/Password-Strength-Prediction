{
 "cells": [
  {
   "cell_type": "code",
   "execution_count": 1,
   "id": "fca1b8fa",
   "metadata": {},
   "outputs": [],
   "source": [
    "import pandas as pd \n",
    "import numpy as np\n",
    "import warnings\n",
    "warnings.filterwarnings(\"ignore\")\n"
   ]
  },
  {
   "cell_type": "code",
   "execution_count": 2,
   "id": "32aeae67",
   "metadata": {},
   "outputs": [],
   "source": [
    "pass_data = pd.read_csv('password_dataset.csv')"
   ]
  },
  {
   "cell_type": "code",
   "execution_count": 3,
   "id": "4cc84245",
   "metadata": {},
   "outputs": [
    {
     "data": {
      "text/html": [
       "<div>\n",
       "<style scoped>\n",
       "    .dataframe tbody tr th:only-of-type {\n",
       "        vertical-align: middle;\n",
       "    }\n",
       "\n",
       "    .dataframe tbody tr th {\n",
       "        vertical-align: top;\n",
       "    }\n",
       "\n",
       "    .dataframe thead th {\n",
       "        text-align: right;\n",
       "    }\n",
       "</style>\n",
       "<table border=\"1\" class=\"dataframe\">\n",
       "  <thead>\n",
       "    <tr style=\"text-align: right;\">\n",
       "      <th></th>\n",
       "      <th>password</th>\n",
       "      <th>strength</th>\n",
       "    </tr>\n",
       "  </thead>\n",
       "  <tbody>\n",
       "    <tr>\n",
       "      <th>0</th>\n",
       "      <td>kzde5577</td>\n",
       "      <td>1</td>\n",
       "    </tr>\n",
       "    <tr>\n",
       "      <th>1</th>\n",
       "      <td>kino3434</td>\n",
       "      <td>1</td>\n",
       "    </tr>\n",
       "    <tr>\n",
       "      <th>2</th>\n",
       "      <td>visi7k1yr</td>\n",
       "      <td>1</td>\n",
       "    </tr>\n",
       "    <tr>\n",
       "      <th>3</th>\n",
       "      <td>megzy123</td>\n",
       "      <td>1</td>\n",
       "    </tr>\n",
       "    <tr>\n",
       "      <th>4</th>\n",
       "      <td>lamborghin1</td>\n",
       "      <td>1</td>\n",
       "    </tr>\n",
       "  </tbody>\n",
       "</table>\n",
       "</div>"
      ],
      "text/plain": [
       "      password strength\n",
       "0     kzde5577        1\n",
       "1     kino3434        1\n",
       "2    visi7k1yr        1\n",
       "3     megzy123        1\n",
       "4  lamborghin1        1"
      ]
     },
     "execution_count": 3,
     "metadata": {},
     "output_type": "execute_result"
    }
   ],
   "source": [
    "pass_data.head()"
   ]
  },
  {
   "cell_type": "code",
   "execution_count": 4,
   "id": "029aa995",
   "metadata": {},
   "outputs": [
    {
     "data": {
      "text/plain": [
       "(669877, 2)"
      ]
     },
     "execution_count": 4,
     "metadata": {},
     "output_type": "execute_result"
    }
   ],
   "source": [
    "pass_data.shape"
   ]
  },
  {
   "cell_type": "code",
   "execution_count": 5,
   "id": "9956a0ec",
   "metadata": {},
   "outputs": [
    {
     "data": {
      "text/plain": [
       "password    1\n",
       "strength    0\n",
       "dtype: int64"
      ]
     },
     "execution_count": 5,
     "metadata": {},
     "output_type": "execute_result"
    }
   ],
   "source": [
    "# check missing values\n",
    "pass_data.isna().sum()"
   ]
  },
  {
   "cell_type": "code",
   "execution_count": 6,
   "id": "a6b8aeec",
   "metadata": {},
   "outputs": [],
   "source": [
    "pass_data.dropna(inplace=True)"
   ]
  },
  {
   "cell_type": "code",
   "execution_count": 7,
   "id": "bf4ca819",
   "metadata": {},
   "outputs": [
    {
     "data": {
      "text/plain": [
       "password    0\n",
       "strength    0\n",
       "dtype: int64"
      ]
     },
     "execution_count": 7,
     "metadata": {},
     "output_type": "execute_result"
    }
   ],
   "source": [
    "pass_data.isna().sum()"
   ]
  },
  {
   "cell_type": "code",
   "execution_count": 8,
   "id": "53e5d18a",
   "metadata": {},
   "outputs": [
    {
     "data": {
      "text/plain": [
       "array(['1', '2', '0', 'delioreanxs@hotmail.com', 'mt2gurur@hotmail.com',\n",
       "       'facebookselim4@hotmail.com', 'anakonda_252@hotmail.com',\n",
       "       'mamedov.kenan@mail.ru', 'destek@migmedya.com',\n",
       "       'elitebank44@gmail.com', 'memleketim.info@gmail.com',\n",
       "       'canersastim@gmail.com', 'arifselim.ask@gmail.com',\n",
       "       'octoberwind@mynet.com', 'sado_370@hotmail.com',\n",
       "       'djexploit@gmail.com', 'bursabursa2@hotmail.com',\n",
       "       'info@kayimoglu.com', 'drselimcelik@gmail.com',\n",
       "       'bykudelfa@hotmail.com', 'kralkotsk@mynet.com',\n",
       "       'mnyk12@hotmail.com', 'elitebilgisayar26@gmail.com',\n",
       "       'elumre@gmail.com', 'selim.ozmen07@hotmail.com',\n",
       "       'selimkaratas@windowslive.com', 'crazy_boeing@yahoo.com',\n",
       "       'imkbticaretmeslek@gmail.com', 'mrcds.grmnt@yahoo.com',\n",
       "       'mert_kaya09@hotmail.com', 'beratmisimi1@gmail.com',\n",
       "       'cousto@live.com', 'boystreet04@gmail.com',\n",
       "       'hackerbbqueen15@hotmail.com', 'brkyc3@hotmail.com',\n",
       "       'bursa322@hotmail.com', 'selimcebecioglu@gmail.com',\n",
       "       'ooyrwdiovouxa@hotmail.com', 'antit0xin@hotmail.com',\n",
       "       'kaderimse.net@hotmail.com', 'cnraktas@hotmail.com',\n",
       "       'kerem_3435@hotmail.com', 'selim2@live.nl',\n",
       "       'selimakyol000@hotmail.com', 'selimiu14@gmail.com',\n",
       "       'selimest1@yahoo.fr', 'sd66@live.com', 'bykudelfa@windowslive.com',\n",
       "       'mogol_1994@hotmail.com', 'ayakseven@gmail.com',\n",
       "       'selimiii91@googlemail.com', 'asassa.asdsadsads@mail.ru',\n",
       "       'byscg@live.com', 'igoubane@gmail.com', 'kudigaf-59@hotmail.com',\n",
       "       'okanfidan.5@hotmail.com', 'cs.bossy@hotmail.com',\n",
       "       'gavur55@gmail.com', 'ckrguzel61@hotmail.com',\n",
       "       'emre_talha_erim@hotmail.com', 'fatal09@live.de',\n",
       "       'selim93dz@gmail.com', 'aspiranko@gmail.com',\n",
       "       'manisagfb@windowslive.com', 'freezoneworld@gmail.com',\n",
       "       'dakikaoyun1@hotmail.com', 'aselimulkatan@windowslive.com',\n",
       "       'platonik.ask1@hotmail.com.tr', 'bio-nick@hotmail.com',\n",
       "       'samyeli25@mynet.com', 'selim.samli1@hotmail.com.tr',\n",
       "       'kuyucu_selim@hotmail.com', 'mesajticaret@hotmail.com',\n",
       "       'cristiano_juega_10@hotmail.com', 'auetetee@narod.ru',\n",
       "       'haylaz_1453@hotmail.com', 'selim_tek1@hotmail.com',\n",
       "       'kralaidcop@gmail.com', 'melchazli@gmail.com',\n",
       "       'metaren@yandex.com', 'axiselo@hotmail.com',\n",
       "       'jakuzen.57@hotmail.com', 'by.social@hotmail.com',\n",
       "       'selimjel@icloud.com', 'escortcu34@gmail.com',\n",
       "       'iletisim@selimaltin.com', 'demir_06_68@hotmail.com',\n",
       "       'bychatlak_66@hotmail.com', 'selim1@live.be',\n",
       "       'dyinglast@outlook.com', 'korhaydut_38@hotmail.com',\n",
       "       'mt2_shorty@hotmail.com', 'bykudelfa2@hotmail.com',\n",
       "       'contemp99@gmail.com', 'mehmeteminyakit@tnctr.com',\n",
       "       'sakaryam5454@yandex.com.tr', 'boskartus@hotmail.com',\n",
       "       'dumanselim52@gmail.com', 'selimmsn@msn.com',\n",
       "       'derko_42@hotmail.com', 'selimb300@gmail.com',\n",
       "       'selimakyuz@gmail.com', 'selimaliqkaj5@gmail.com',\n",
       "       'karsidag@hotmail.com', 'cellymmm@hotmail.com', 'selim199@abv.bg',\n",
       "       'brain_storm_92@hotmail.com', 'groteselim@msn.com',\n",
       "       'avci.selim@gmail.com', 'genc_fb.56@hotmail.com',\n",
       "       'gencosman_2006@hotmail.com', 'hackershift@gmail.com',\n",
       "       'begum_akdogan_33@hotmail.com', 'eskortcu@hotmail.com',\n",
       "       'selim.chergui@hotmail.com', 'odmosegtnss@ovi.com',\n",
       "       'alpha_omeg@rocketmail.com', 'derdan0707@gmail.com',\n",
       "       's.selimerdem@hotmail.com', 'atac.selim@gmail.com',\n",
       "       'keepifreal@hotmail.com', 'deren8120012@hotmail.com',\n",
       "       'iletisim@oderece.net', 'carizma_cocuk1987@hotmail.com',\n",
       "       'bursabursa123321@hotmail.com', 'remselim@gmail.com',\n",
       "       'dummandumman@hotmail.com', 'ezgikutlu_06@hotmail.com',\n",
       "       'sahinemlak59@gmail.com', 'selim_cz@hotmail.com',\n",
       "       'selimkirazliogli@hotmail.com', 'csprosunucum@hotmail.com',\n",
       "       'lostlover662@gmail.com', 'my.dimpls@hotmail.com',\n",
       "       'kikushi@live.com', 'hi.selimreza@gmail.com',\n",
       "       'psiko_child@hotmail.com', 'limmy007@live.com',\n",
       "       'kalkal223@hotmail.com', 'sametselim44@gmail.com',\n",
       "       'sel34443@gmail.com', 'durdedimulen@hotmail.com',\n",
       "       'hackershift@live.com', 'komofti34@gmail.com',\n",
       "       'by_firari_019@hotmail.com', 'johirali08@gmail.com',\n",
       "       'real_crayz@hotmail.com', 'buzzy_speaker@hotmail.com',\n",
       "       'ice.nova@hotmail.com', 'karaselim.colakoglu@gmail.com',\n",
       "       'gs_li_selo@hotmail.com', 'selimgabsi@yahoo.fr',\n",
       "       'free.gta5@gmail.com', 'selimgs@mynet.com', 'bursa223@hotmail.com',\n",
       "       'ftp42@gmx.net', 'hayat.yalan.beimgibi@hotmail.com',\n",
       "       'selim.cancan1@hotmail.com', 'basogluselim@yahoo.com',\n",
       "       'contempt99@gmail.com', 'expro_sc@hotmail.com',\n",
       "       'selimdamar63@gmail.com', 'developpeurwebsite@gmail.com',\n",
       "       'selim.samli038@hotmail.com', 'kaankarayel_2012@hotmail.com',\n",
       "       'redcap12@yahoo.com', 'faceboookinfo@gmail.com', 'fatal08@live.de',\n",
       "       'demente_selim@hotmail.com', 's.k11@laposte.net',\n",
       "       'selimcebesoy@gmail.com', 'selimkoylahisarli@live.com',\n",
       "       'selimkahya@gmail.com', 'byensel01@hotmail.com',\n",
       "       'kanli007@hotmail.com', 'enucuzdugun@hotmail.fr',\n",
       "       'beylikovajumla@mynet.com', 'faakeadres123@hotmail.com',\n",
       "       'andarmastana@gmail.com', 'frozen2245@gmail.com',\n",
       "       'selim_samli1@hotmail.com', 'facebookselim1@hotmail.com',\n",
       "       'mimou_939@hotmail.fr', 'elyomeric@hotmail.com',\n",
       "       'facebookselim2@hotmail.com', 'haylaz_1997@hotmail.com',\n",
       "       'selim07_fenerium@hotmail.com', 'korganradyo@hotmail.com',\n",
       "       'selim880@rambler.ru', 'mhpboy@hotmail.com', 'byselm34@gmail.com',\n",
       "       'kutlu514@hotmail.com', 'gamesliga@hotmail.com',\n",
       "       'janssensselim@gmail.com', 'benimsitem@yahoo.com',\n",
       "       'esesanahtar@hotmail.com', 'ikikeredusun@gmail.com',\n",
       "       'metin2pvp69@hotmail.com', 'kartallimt2@hotmail.com',\n",
       "       'evinkirosu@hotmail.com', 'besiktaskim@hotmail.com',\n",
       "       'cybervadi@hotmail.co.uk', 'selim_sarikaya42@hotmail.com',\n",
       "       'firar50@hotmail.com', 'cengiz_metin35@hotmail.com',\n",
       "       'balik_muhammedali665@hotmail.com', 'codeslm.dark@yahoo.com',\n",
       "       'anime.evi@hotmail.com', 'kartanesi.selim@gmail.com',\n",
       "       'eskisehirsite@mynet.com', 'bilgisayarbilisimonline@mynet.com',\n",
       "       'antifb@gmail.com', 'barborosselim@gmail.com',\n",
       "       'selimkuyucu1@hotmail.com', 'ibrahimsakhta1@gmail.com',\n",
       "       'selimdg@hotmail.com', 'selimerdogan29@gmail.com',\n",
       "       'hasel_4458@hotmail.com', 'black_line63@hotmail.com',\n",
       "       'delibeyazim_18@hotmail.com', 'armin_lokvancic@hotmail.com',\n",
       "       'selimmsenturkk@hotmail.com', 'hacsel.erdem@gmail.com',\n",
       "       'dj_gezegen_90@hotmail.com', 'msinan2008@hotmail.de',\n",
       "       'selim_sari@hotmail.com', 'karamsar_87@yahoo.com',\n",
       "       'seckinsitesi@mynet.com', 'kralrock@msn.com',\n",
       "       'pokemon924@live.com', 'selim_mir@hotmail.com',\n",
       "       'bgselim1993@gmail.com', 'info@live35.net',\n",
       "       'cimbom_cadde@hotmail.com', 'hajriz.balkansunflowers@gmail.com',\n",
       "       'f4rr3ll26@gmail.com', 'deltoiddesign@hotmail.com'], dtype=object)"
      ]
     },
     "execution_count": 8,
     "metadata": {},
     "output_type": "execute_result"
    }
   ],
   "source": [
    "# check uniqueness of Strength columns\n",
    "pass_data['strength'].unique()"
   ]
  },
  {
   "cell_type": "code",
   "execution_count": 9,
   "id": "9dd35d08",
   "metadata": {},
   "outputs": [],
   "source": [
    "# the strength column contain unnecessary emails\n",
    "# lets remove them\n",
    "\n",
    "def clean_col(x):\n",
    "    try:\n",
    "        int(x)\n",
    "    except Exception:\n",
    "        return np.nan\n",
    "    else:\n",
    "        return x"
   ]
  },
  {
   "cell_type": "code",
   "execution_count": 10,
   "id": "9f99d622",
   "metadata": {},
   "outputs": [],
   "source": [
    "pass_data['strength'] = pass_data['strength'].apply(lambda x: clean_col(x))"
   ]
  },
  {
   "cell_type": "code",
   "execution_count": 11,
   "id": "2c242ecc",
   "metadata": {},
   "outputs": [
    {
     "data": {
      "text/plain": [
       "array(['1', '2', '0', nan], dtype=object)"
      ]
     },
     "execution_count": 11,
     "metadata": {},
     "output_type": "execute_result"
    }
   ],
   "source": [
    "pass_data['strength'].unique()"
   ]
  },
  {
   "cell_type": "code",
   "execution_count": 12,
   "id": "afeccc6f",
   "metadata": {},
   "outputs": [
    {
     "data": {
      "text/plain": [
       "password      0\n",
       "strength    237\n",
       "dtype: int64"
      ]
     },
     "execution_count": 12,
     "metadata": {},
     "output_type": "execute_result"
    }
   ],
   "source": [
    "# check missing values again\n",
    "pass_data.isna().sum()"
   ]
  },
  {
   "cell_type": "code",
   "execution_count": 13,
   "id": "fadb5448",
   "metadata": {},
   "outputs": [],
   "source": [
    "# drop nan \n",
    "pass_data.dropna(inplace=True)"
   ]
  },
  {
   "cell_type": "code",
   "execution_count": 14,
   "id": "9ffdf7a2",
   "metadata": {},
   "outputs": [
    {
     "data": {
      "text/plain": [
       "<AxesSubplot:xlabel='strength', ylabel='count'>"
      ]
     },
     "execution_count": 14,
     "metadata": {},
     "output_type": "execute_result"
    },
    {
     "data": {
      "image/png": "[encoded data removed]",
      "text/plain": [
       "<Figure size 432x288 with 1 Axes>"
      ]
     },
     "metadata": {
      "needs_background": "light"
     },
     "output_type": "display_data"
    }
   ],
   "source": [
    "# visualize the strength column\n",
    "import seaborn as sn\n",
    "sn.countplot(pass_data['strength'])"
   ]
  },
  {
   "cell_type": "markdown",
   "id": "dbdee804",
   "metadata": {},
   "source": [
    "The data is biased to 1"
   ]
  },
  {
   "cell_type": "code",
   "execution_count": 15,
   "id": "2bde9b3d",
   "metadata": {},
   "outputs": [],
   "source": [
    "pass_data_tupple = np.array(pass_data)"
   ]
  },
  {
   "cell_type": "code",
   "execution_count": 16,
   "id": "19de24fe",
   "metadata": {},
   "outputs": [
    {
     "data": {
      "text/plain": [
       "array([['kzde5577', '1'],\n",
       "       ['kino3434', '1'],\n",
       "       ['visi7k1yr', '1'],\n",
       "       ...,\n",
       "       ['184520socram', '1'],\n",
       "       ['marken22a', '1'],\n",
       "       ['fxx4pw4g', '1']], dtype=object)"
      ]
     },
     "execution_count": 16,
     "metadata": {},
     "output_type": "execute_result"
    }
   ],
   "source": [
    "pass_data_tupple"
   ]
  },
  {
   "cell_type": "code",
   "execution_count": 17,
   "id": "3d7ca047",
   "metadata": {},
   "outputs": [],
   "source": [
    "# shuffle the tupple\n",
    "import random\n",
    "random.shuffle(pass_data_tupple)"
   ]
  },
  {
   "cell_type": "code",
   "execution_count": 18,
   "id": "b16dd6a7",
   "metadata": {},
   "outputs": [],
   "source": [
    "# separate the tupple\n",
    "x = [label[0] for label in pass_data_tupple]\n",
    "y = [label[1] for label in pass_data_tupple]"
   ]
  },
  {
   "cell_type": "code",
   "execution_count": 19,
   "id": "faff1a82",
   "metadata": {},
   "outputs": [
    {
     "data": {
      "text/plain": [
       "['kzde5577',\n",
       " 'kino3434',\n",
       " 'kino3434',\n",
       " 'visi7k1yr',\n",
       " 'visi7k1yr',\n",
       " 'AVYq1lDE4MgAZfNt',\n",
       " 'kzde5577',\n",
       " 'v1118714',\n",
       " 'kzde5577',\n",
       " 'kino3434']"
      ]
     },
     "execution_count": 19,
     "metadata": {},
     "output_type": "execute_result"
    }
   ],
   "source": [
    "# password\n",
    "x[:10]"
   ]
  },
  {
   "cell_type": "code",
   "execution_count": 20,
   "id": "f6d234fc",
   "metadata": {},
   "outputs": [
    {
     "data": {
      "text/plain": [
       "['1', '1', '1', '1', '1', '2', '1', '1', '1', '1']"
      ]
     },
     "execution_count": 20,
     "metadata": {},
     "output_type": "execute_result"
    }
   ],
   "source": [
    "y[:10]"
   ]
  },
  {
   "cell_type": "code",
   "execution_count": 21,
   "id": "721fbc45",
   "metadata": {},
   "outputs": [],
   "source": [
    "# function to split the characters in the password\n",
    "\n",
    "def word_to_character(inputs):\n",
    "    character = []\n",
    "    for i in inputs:\n",
    "        character.append(i)\n",
    "    return character"
   ]
  },
  {
   "cell_type": "code",
   "execution_count": 22,
   "id": "32efab67",
   "metadata": {},
   "outputs": [
    {
     "data": {
      "text/plain": [
       "['m', 'e', 'g', 'z', 'y', '1', '2', '3']"
      ]
     },
     "execution_count": 22,
     "metadata": {},
     "output_type": "execute_result"
    }
   ],
   "source": [
    "word_to_character('megzy123')"
   ]
  },
  {
   "cell_type": "code",
   "execution_count": 23,
   "id": "b78e1d87",
   "metadata": {},
   "outputs": [],
   "source": [
    "from sklearn.feature_extraction.text import TfidfVectorizer\n",
    "\n",
    "vectorizer = TfidfVectorizer(tokenizer=word_to_character)\n",
    "\n",
    "X = vectorizer.fit_transform(x)"
   ]
  },
  {
   "cell_type": "code",
   "execution_count": 24,
   "id": "f4b9949a",
   "metadata": {},
   "outputs": [
    {
     "data": {
      "text/plain": [
       "(669639, 132)"
      ]
     },
     "execution_count": 24,
     "metadata": {},
     "output_type": "execute_result"
    }
   ],
   "source": [
    "X.shape"
   ]
  },
  {
   "cell_type": "code",
   "execution_count": 25,
   "id": "d9f871a6",
   "metadata": {},
   "outputs": [],
   "source": [
    "first_doc = X[0]"
   ]
  },
  {
   "cell_type": "code",
   "execution_count": 26,
   "id": "1885a4fb",
   "metadata": {},
   "outputs": [
    {
     "data": {
      "text/plain": [
       "matrix([[0.        ],\n",
       "        [0.        ],\n",
       "        [0.        ],\n",
       "        [0.        ],\n",
       "        [0.        ],\n",
       "        [0.        ],\n",
       "        [0.        ],\n",
       "        [0.        ],\n",
       "        [0.        ],\n",
       "        [0.        ],\n",
       "        [0.        ],\n",
       "        [0.        ],\n",
       "        [0.        ],\n",
       "        [0.        ],\n",
       "        [0.        ],\n",
       "        [0.        ],\n",
       "        [0.        ],\n",
       "        [0.        ],\n",
       "        [0.        ],\n",
       "        [0.        ],\n",
       "        [0.        ],\n",
       "        [0.        ],\n",
       "        [0.        ],\n",
       "        [0.        ],\n",
       "        [0.        ],\n",
       "        [0.        ],\n",
       "        [0.        ],\n",
       "        [0.        ],\n",
       "        [0.        ],\n",
       "        [0.        ],\n",
       "        [0.        ],\n",
       "        [0.        ],\n",
       "        [0.        ],\n",
       "        [0.5668758 ],\n",
       "        [0.        ],\n",
       "        [0.59160951],\n",
       "        [0.        ],\n",
       "        [0.        ],\n",
       "        [0.        ],\n",
       "        [0.        ],\n",
       "        [0.        ],\n",
       "        [0.        ],\n",
       "        [0.        ],\n",
       "        [0.        ],\n",
       "        [0.        ],\n",
       "        [0.        ],\n",
       "        [0.        ],\n",
       "        [0.        ],\n",
       "        [0.        ],\n",
       "        [0.        ],\n",
       "        [0.        ],\n",
       "        [0.        ],\n",
       "        [0.        ],\n",
       "        [0.2854058 ],\n",
       "        [0.22148505],\n",
       "        [0.        ],\n",
       "        [0.        ],\n",
       "        [0.        ],\n",
       "        [0.        ],\n",
       "        [0.        ],\n",
       "        [0.2921242 ],\n",
       "        [0.        ],\n",
       "        [0.        ],\n",
       "        [0.        ],\n",
       "        [0.        ],\n",
       "        [0.        ],\n",
       "        [0.        ],\n",
       "        [0.        ],\n",
       "        [0.        ],\n",
       "        [0.        ],\n",
       "        [0.        ],\n",
       "        [0.        ],\n",
       "        [0.        ],\n",
       "        [0.        ],\n",
       "        [0.        ],\n",
       "        [0.33585916],\n",
       "        [0.        ],\n",
       "        [0.        ],\n",
       "        [0.        ],\n",
       "        [0.        ],\n",
       "        [0.        ],\n",
       "        [0.        ],\n",
       "        [0.        ],\n",
       "        [0.        ],\n",
       "        [0.        ],\n",
       "        [0.        ],\n",
       "        [0.        ],\n",
       "        [0.        ],\n",
       "        [0.        ],\n",
       "        [0.        ],\n",
       "        [0.        ],\n",
       "        [0.        ],\n",
       "        [0.        ],\n",
       "        [0.        ],\n",
       "        [0.        ],\n",
       "        [0.        ],\n",
       "        [0.        ],\n",
       "        [0.        ],\n",
       "        [0.        ],\n",
       "        [0.        ],\n",
       "        [0.        ],\n",
       "        [0.        ],\n",
       "        [0.        ],\n",
       "        [0.        ],\n",
       "        [0.        ],\n",
       "        [0.        ],\n",
       "        [0.        ],\n",
       "        [0.        ],\n",
       "        [0.        ],\n",
       "        [0.        ],\n",
       "        [0.        ],\n",
       "        [0.        ],\n",
       "        [0.        ],\n",
       "        [0.        ],\n",
       "        [0.        ],\n",
       "        [0.        ],\n",
       "        [0.        ],\n",
       "        [0.        ],\n",
       "        [0.        ],\n",
       "        [0.        ],\n",
       "        [0.        ],\n",
       "        [0.        ],\n",
       "        [0.        ],\n",
       "        [0.        ],\n",
       "        [0.        ],\n",
       "        [0.        ],\n",
       "        [0.        ],\n",
       "        [0.        ],\n",
       "        [0.        ],\n",
       "        [0.        ],\n",
       "        [0.        ],\n",
       "        [0.        ]])"
      ]
     },
     "execution_count": 26,
     "metadata": {},
     "output_type": "execute_result"
    }
   ],
   "source": [
    "first_doc.T.todense()"
   ]
  },
  {
   "cell_type": "code",
   "execution_count": 27,
   "id": "461d4ee1",
   "metadata": {},
   "outputs": [],
   "source": [
    "# create dataframe for the password matrix\n",
    "df = pd.DataFrame(first_doc.T.todense(),index=vectorizer.get_feature_names_out(),columns=[\"TF-IDF\"])"
   ]
  },
  {
   "cell_type": "code",
   "execution_count": 28,
   "id": "d9a4aaa9",
   "metadata": {},
   "outputs": [
    {
     "data": {
      "text/html": [
       "<div>\n",
       "<style scoped>\n",
       "    .dataframe tbody tr th:only-of-type {\n",
       "        vertical-align: middle;\n",
       "    }\n",
       "\n",
       "    .dataframe tbody tr th {\n",
       "        vertical-align: top;\n",
       "    }\n",
       "\n",
       "    .dataframe thead th {\n",
       "        text-align: right;\n",
       "    }\n",
       "</style>\n",
       "<table border=\"1\" class=\"dataframe\">\n",
       "  <thead>\n",
       "    <tr style=\"text-align: right;\">\n",
       "      <th></th>\n",
       "      <th>TF-IDF</th>\n",
       "    </tr>\n",
       "  </thead>\n",
       "  <tbody>\n",
       "    <tr>\n",
       "      <th>7</th>\n",
       "      <td>0.591610</td>\n",
       "    </tr>\n",
       "    <tr>\n",
       "      <th>5</th>\n",
       "      <td>0.566876</td>\n",
       "    </tr>\n",
       "    <tr>\n",
       "      <th>z</th>\n",
       "      <td>0.335859</td>\n",
       "    </tr>\n",
       "    <tr>\n",
       "      <th>k</th>\n",
       "      <td>0.292124</td>\n",
       "    </tr>\n",
       "    <tr>\n",
       "      <th>d</th>\n",
       "      <td>0.285406</td>\n",
       "    </tr>\n",
       "    <tr>\n",
       "      <th>...</th>\n",
       "      <td>...</td>\n",
       "    </tr>\n",
       "    <tr>\n",
       "      <th>&lt;</th>\n",
       "      <td>0.000000</td>\n",
       "    </tr>\n",
       "    <tr>\n",
       "      <th>;</th>\n",
       "      <td>0.000000</td>\n",
       "    </tr>\n",
       "    <tr>\n",
       "      <th>9</th>\n",
       "      <td>0.000000</td>\n",
       "    </tr>\n",
       "    <tr>\n",
       "      <th>8</th>\n",
       "      <td>0.000000</td>\n",
       "    </tr>\n",
       "    <tr>\n",
       "      <th>™</th>\n",
       "      <td>0.000000</td>\n",
       "    </tr>\n",
       "  </tbody>\n",
       "</table>\n",
       "<p>132 rows × 1 columns</p>\n",
       "</div>"
      ],
      "text/plain": [
       "      TF-IDF\n",
       "7   0.591610\n",
       "5   0.566876\n",
       "z   0.335859\n",
       "k   0.292124\n",
       "d   0.285406\n",
       "..       ...\n",
       "<   0.000000\n",
       ";   0.000000\n",
       "9   0.000000\n",
       "8   0.000000\n",
       "™   0.000000\n",
       "\n",
       "[132 rows x 1 columns]"
      ]
     },
     "execution_count": 28,
     "metadata": {},
     "output_type": "execute_result"
    }
   ],
   "source": [
    "df.sort_values(by=['TF-IDF'],ascending=False)"
   ]
  },
  {
   "cell_type": "code",
   "execution_count": 29,
   "id": "e736ccad",
   "metadata": {},
   "outputs": [],
   "source": [
    "# split the data into train and test set\n",
    "from sklearn.model_selection import train_test_split"
   ]
  },
  {
   "cell_type": "code",
   "execution_count": 30,
   "id": "e4b336ed",
   "metadata": {},
   "outputs": [],
   "source": [
    "x_train,x_test,y_train,y_test = train_test_split(X,y,test_size=0.2,random_state=100)"
   ]
  },
  {
   "cell_type": "code",
   "execution_count": 31,
   "id": "25e83480",
   "metadata": {},
   "outputs": [
    {
     "data": {
      "text/plain": [
       "matrix([[0., 0., 0., ..., 0., 0., 0.],\n",
       "        [0., 0., 0., ..., 0., 0., 0.],\n",
       "        [0., 0., 0., ..., 0., 0., 0.],\n",
       "        ...,\n",
       "        [0., 0., 0., ..., 0., 0., 0.],\n",
       "        [0., 0., 0., ..., 0., 0., 0.],\n",
       "        [0., 0., 0., ..., 0., 0., 0.]])"
      ]
     },
     "execution_count": 31,
     "metadata": {},
     "output_type": "execute_result"
    }
   ],
   "source": [
    "x_train.T.todense()"
   ]
  },
  {
   "cell_type": "markdown",
   "id": "2054a610",
   "metadata": {},
   "source": [
    "### Build ML model to predict the strength of password"
   ]
  },
  {
   "cell_type": "markdown",
   "id": "50e47476",
   "metadata": {},
   "source": [
    "   ### 1. DecisionTreeClassifier"
   ]
  },
  {
   "cell_type": "code",
   "execution_count": 32,
   "id": "72f924ac",
   "metadata": {},
   "outputs": [],
   "source": [
    "from sklearn.tree import DecisionTreeClassifier\n",
    "from sklearn.metrics import classification_report, confusion_matrix, accuracy_score\n"
   ]
  },
  {
   "cell_type": "code",
   "execution_count": 33,
   "id": "f8f442df",
   "metadata": {},
   "outputs": [],
   "source": [
    "dt_model = DecisionTreeClassifier()"
   ]
  },
  {
   "cell_type": "code",
   "execution_count": 34,
   "id": "9a589c5c",
   "metadata": {},
   "outputs": [],
   "source": [
    "dt_model.fit(x_train,y_train)\n",
    "dt_pred = dt_model.predict(x_test)"
   ]
  },
  {
   "cell_type": "code",
   "execution_count": 36,
   "id": "486f4048",
   "metadata": {},
   "outputs": [
    {
     "name": "stdout",
     "output_type": "stream",
     "text": [
      "Model score: 0.973612687414133\n",
      "*****************************************************\n",
      "Classification Report: \n",
      "              precision    recall  f1-score   support\n",
      "\n",
      "           0       0.94      0.94      0.94     18110\n",
      "           1       0.98      0.98      0.98     99069\n",
      "           2       0.96      0.95      0.95     16749\n",
      "\n",
      "    accuracy                           0.97    133928\n",
      "   macro avg       0.96      0.96      0.96    133928\n",
      "weighted avg       0.97      0.97      0.97    133928\n",
      "\n"
     ]
    }
   ],
   "source": [
    "print(\"Model score:\",accuracy_score(y_test,dt_pred))\n",
    "print(\"*****************************************************\")\n",
    "print(\"Classification Report: \")\n",
    "print(classification_report(y_test,dt_pred))"
   ]
  },
  {
   "cell_type": "code",
   "execution_count": 44,
   "id": "ba5e5df9",
   "metadata": {},
   "outputs": [],
   "source": [
    "import pickle\n",
    "pickle.dump(dt_model,open(\"dt_model.pkl\",\"wb\"))"
   ]
  },
  {
   "cell_type": "code",
   "execution_count": 39,
   "id": "cbf42d0f",
   "metadata": {
    "scrolled": true
   },
   "outputs": [
    {
     "data": {
      "text/plain": [
       "array(['1', '2', '2'], dtype='<U1')"
      ]
     },
     "execution_count": 39,
     "metadata": {},
     "output_type": "execute_result"
    }
   ],
   "source": [
    "new_pass = np.array(['00*123','awqwewoilfkvnropflr;)','(0H)@1s3123'])\n",
    "pred = vectorizer.transform(new_pass)\n",
    "dt_model.predict(pred)"
   ]
  },
  {
   "cell_type": "code",
   "execution_count": null,
   "id": "7e54e257",
   "metadata": {},
   "outputs": [],
   "source": []
  },
  {
   "cell_type": "code",
   "execution_count": 40,
   "id": "cdfbf0ba",
   "metadata": {},
   "outputs": [],
   "source": [
    "def check_pass_strength(pass_data):\n",
    "    new_pass = np.array([pass_data])\n",
    "    pred = vectorizer.transform(new_pass)\n",
    "    result=dt_model.predict(pred)\n",
    "    \n",
    "    return result\n"
   ]
  },
  {
   "cell_type": "code",
   "execution_count": 43,
   "id": "fa4192ed",
   "metadata": {},
   "outputs": [
    {
     "data": {
      "text/plain": [
       "array(['1'], dtype='<U1')"
      ]
     },
     "execution_count": 43,
     "metadata": {},
     "output_type": "execute_result"
    }
   ],
   "source": [
    "check_pass_strength(\"02/drfe\")"
   ]
  },
  {
   "cell_type": "code",
   "execution_count": 41,
   "id": "18e5fc2b",
   "metadata": {},
   "outputs": [
    {
     "data": {
      "text/plain": [
       "array(['2'], dtype='<U1')"
      ]
     },
     "execution_count": 41,
     "metadata": {},
     "output_type": "execute_result"
    }
   ],
   "source": [
    "check_pass_strength(\"!@Password12345\")"
   ]
  },
  {
   "cell_type": "code",
   "execution_count": null,
   "id": "8ace7ed3",
   "metadata": {},
   "outputs": [],
   "source": []
  },
  {
   "cell_type": "code",
   "execution_count": null,
   "id": "29ef6b90",
   "metadata": {},
   "outputs": [],
   "source": []
  }
 ],
 "metadata": {
  "kernelspec": {
   "display_name": "Python 3 (ipykernel)",
   "language": "python",
   "name": "python3"
  },
  "language_info": {
   "codemirror_mode": {
    "name": "ipython",
    "version": 3
   },
   "file_extension": ".py",
   "mimetype": "text/x-python",
   "name": "python",
   "nbconvert_exporter": "python",
   "pygments_lexer": "ipython3",
   "version": "3.9.12"
  }
 },
 "nbformat": 4,
 "nbformat_minor": 5
}
